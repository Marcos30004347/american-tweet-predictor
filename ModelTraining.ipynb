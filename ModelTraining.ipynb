{
 "cells": [
  {
   "cell_type": "code",
   "execution_count": 5,
   "id": "570a9dc8",
   "metadata": {},
   "outputs": [
    {
     "name": "stderr",
     "output_type": "stream",
     "text": [
      "[nltk_data] Downloading package stopwords to\n",
      "[nltk_data]     /home/marcossantos/nltk_data...\n",
      "[nltk_data]   Package stopwords is already up-to-date!\n"
     ]
    },
    {
     "name": "stdout",
     "output_type": "stream",
     "text": [
      "0       True\n",
      "1       True\n",
      "2       True\n",
      "3       True\n",
      "4       True\n",
      "        ... \n",
      "9994    True\n",
      "9995    True\n",
      "9996    True\n",
      "9997    True\n",
      "9998    True\n",
      "Name: text, Length: 9999, dtype: bool\n"
     ]
    },
    {
     "data": {
      "text/plain": [
       "0.7712856428214107"
      ]
     },
     "execution_count": 5,
     "metadata": {},
     "output_type": "execute_result"
    }
   ],
   "source": [
    "import numpy as np\n",
    "import re\n",
    "import nltk\n",
    "from sklearn.datasets import load_files\n",
    "import pickle\n",
    "\n",
    "nltk.download('stopwords')\n",
    "from nltk.corpus import stopwords\n",
    "\n",
    "import pandas as pd\n",
    "import pickle\n",
    "\n",
    "from sklearn.neural_network import MLPClassifier\n",
    "from sklearn.neighbors import KNeighborsClassifier\n",
    "from sklearn.ensemble import RandomForestClassifier\n",
    "from sklearn.feature_extraction.text import CountVectorizer\n",
    "from sklearn.feature_extraction.text import TfidfVectorizer\n",
    "from sklearn.feature_extraction.text import TfidfTransformer\n",
    "from sklearn.metrics import classification_report, confusion_matrix, accuracy_score\n",
    "from sklearn.linear_model import SGDClassifier\n",
    "from sklearn.pipeline import Pipeline\n",
    "from sklearn.naive_bayes import MultinomialNB\n",
    "\n",
    "df   = pd.read_csv(\"/home/cunha/covid19-sample/training.csv\", header = 0, sep = ';')\n",
    "test = pd.read_csv(\"/home/cunha/covid19-sample/test.csv\", header = 0, sep = ';')\n",
    "\n",
    "test = test[test['text'].notna()]\n",
    "test = test[test['country_code'].notna()]\n",
    "\n",
    "df = df[df['text'].notna()]\n",
    "df = df[df['country_code'].notna()]\n",
    "\n",
    "tweets  = df['text']\n",
    "country = df['country_code']\n",
    "\n",
    "test_tweets  = test['text']\n",
    "test_country = test['country_code']\n",
    "\n",
    "country      = (country == 'US').astype(int)\n",
    "test_country = (test_country == 'US').astype(int)\n",
    "\n",
    "text_clf = Pipeline([\n",
    "    ('vect', CountVectorizer()),\n",
    "    ('tfidf', TfidfTransformer()),\n",
    "    ('clf', MultinomialNB())\n",
    "])\n",
    "\n",
    "text_clf.fit(tweets, country)\n",
    "\n",
    "pred_contry = text_clf.predict(test_tweets)\n",
    "\n",
    "filename = 'model.pickle'\n",
    "\n",
    "pickle.dump(text_clf, open(filename, 'wb'))\n",
    "\n",
    "np.mean(pred_contry == test_country)"
   ]
  },
  {
   "cell_type": "code",
   "execution_count": null,
   "id": "9d4ed81d",
   "metadata": {},
   "outputs": [],
   "source": []
  }
 ],
 "metadata": {
  "kernelspec": {
   "display_name": "Python 3 (ipykernel)",
   "language": "python",
   "name": "python3"
  },
  "language_info": {
   "codemirror_mode": {
    "name": "ipython",
    "version": 3
   },
   "file_extension": ".py",
   "mimetype": "text/x-python",
   "name": "python",
   "nbconvert_exporter": "python",
   "pygments_lexer": "ipython3",
   "version": "3.8.10"
  }
 },
 "nbformat": 4,
 "nbformat_minor": 5
}
